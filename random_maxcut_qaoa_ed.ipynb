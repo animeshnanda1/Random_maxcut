{
 "cells": [
  {
   "cell_type": "markdown",
   "metadata": {},
   "source": [
    "# <a id='top'>Random maxcut</a>\n",
    "\n",
    "In this notebook we will solve the problem of <a href='https://en.wikipedia.org/wiki/Maximum_cut'>random max-cut</a> using three techniques, namely exact diagonalization, QAOA and monte-carlo (will be updated in future). Finally we will comapre the results obtained using different techniques.\n",
    "\n",
    "The problem is in a graph the nodes can have $\\{-1,1\\}$ values. Given a set of undirected connection of weight $\\{-1,+1\\}$, we want minimize the cost function:\n",
    "\n",
    "$$ C=\\sum_{i,j}J_{i,j}s_is_j $$\n",
    "\n",
    "In the phsyics language this is exactly the random bond Ising model, where $s_i$'s are called spin which can take $\\pm 1$ values, since the strength of the bonds $J_{ij}$ are also random, this is called random bond Ising model. In our case there is no notion of locality, and randomly some of the bonds are selected to be non-zero.\n",
    "\n",
    "The problem is to minimize the cost function, which is called Hamiltonian in the physics lingo. Here will will use the following methods to solve the problem:\n",
    "\n",
    "* <a href='#ed'>Exact Diagonalization</a>\n",
    "* Quantum approximate optimization algorithm\n",
    "> In the case of QAOA we will use two related methods for quantum simulator. Those are <a href='#qasm'>QASM</a> and <a href='#state'>statevector</a> simulators respectively. "
   ]
  },
  {
   "cell_type": "code",
   "execution_count": 1,
   "metadata": {},
   "outputs": [
    {
     "data": {
      "text/plain": [
       "{'qiskit-terra': '0.17.1', 'qiskit-aer': '0.8.2', 'qiskit-ignis': '0.6.0', 'qiskit-ibmq-provider': '0.12.3', 'qiskit-aqua': '0.9.1', 'qiskit': '0.25.3', 'qiskit-nature': None, 'qiskit-finance': None, 'qiskit-optimization': None, 'qiskit-machine-learning': None}"
      ]
     },
     "execution_count": 1,
     "metadata": {},
     "output_type": "execute_result"
    }
   ],
   "source": [
    "import qiskit\n",
    "qiskit.__qiskit_version__"
   ]
  },
  {
   "cell_type": "code",
   "execution_count": 2,
   "metadata": {},
   "outputs": [],
   "source": [
    "import numpy as np\n",
    "import networkx as nx\n",
    "import math\n",
    "\n",
    "# scientific coputing\n",
    "from functools import reduce\n",
    "import scipy.sparse as sps\n",
    "import scipy.sparse.linalg as spslin\n",
    "\n",
    "# visualization\n",
    "import matplotlib.pyplot as plt\n",
    "import sys\n",
    "\n",
    "# for classical optimization\n",
    "from scipy.optimize import minimize\n",
    "\n",
    "# for quantum computataion\n",
    "from qiskit import QuantumCircuit, QuantumRegister, ClassicalRegister, execute, Aer\n",
    "from qiskit.visualization import plot_histogram"
   ]
  },
  {
   "cell_type": "code",
   "execution_count": 3,
   "metadata": {},
   "outputs": [
    {
     "name": "stdout",
     "output_type": "stream",
     "text": [
      "choosing 10 number of non zero bonds, out of 21 total possible bonds\n"
     ]
    }
   ],
   "source": [
    "L=7\n",
    "\n",
    "# total number of bond \n",
    "N_all_possible=math.factorial(L)/(math.factorial(2)*(math.factorial(L-2)))\n",
    "N_bond = int(N_all_possible//2)\n",
    "\n",
    "print('choosing %d number of non zero bonds, out of %d total possible bonds'%(N_bond,N_all_possible))\n",
    "\n",
    "s=list(range(L))\n",
    "np.random.seed(391)\n",
    "\n",
    "# there are L choose 2 (=66) possible random interactions, among them we are choosing 20. Furthermore\n",
    "# the interactions are being chosen from a uniform distribution b/w [-1,1)\n",
    "\n",
    "interactions=list(nx.generators.random_graphs.dense_gnm_random_graph(L,N_bond,seed=23).edges())\n",
    "strength=np.random.choice([1,-1],size=N_bond,p=[.5,.5])\n",
    "# strength=np.array([1.]*N_bond)\n",
    "\n",
    "interactions;"
   ]
  },
  {
   "cell_type": "markdown",
   "metadata": {},
   "source": [
    "1. L=7, division by two working fine"
   ]
  },
  {
   "cell_type": "code",
   "execution_count": 4,
   "metadata": {},
   "outputs": [
    {
     "data": {
      "text/plain": [
       "[['zz',\n",
       "  [[1, 0, 1],\n",
       "   [1, 0, 2],\n",
       "   [1, 0, 3],\n",
       "   [-1, 1, 3],\n",
       "   [1, 1, 4],\n",
       "   [1, 1, 6],\n",
       "   [1, 2, 5],\n",
       "   [1, 2, 6],\n",
       "   [-1, 3, 6],\n",
       "   [-1, 4, 5]]]]"
      ]
     },
     "execution_count": 4,
     "metadata": {},
     "output_type": "execute_result"
    }
   ],
   "source": [
    "J_nn=[[strength[i],interactions[i][0],interactions[i][1]] for i in range(N_bond)]\n",
    "static=[[\"zz\",J_nn]]\n",
    "\n",
    "static"
   ]
  },
  {
   "cell_type": "markdown",
   "metadata": {},
   "source": [
    "### To visualize the problem in a graph"
   ]
  },
  {
   "cell_type": "code",
   "execution_count": 5,
   "metadata": {},
   "outputs": [
    {
     "data": {
      "image/png": "[encoded data removed]",
      "text/plain": [
       "<Figure size 432x288 with 1 Axes>"
      ]
     },
     "metadata": {},
     "output_type": "display_data"
    }
   ],
   "source": [
    "G = nx.Graph()\n",
    "G.add_nodes_from(s)\n",
    "for item in J_nn:\n",
    "    G.add_edge(item[1],item[2],color='r' if (item[0]>0) else 'b',weight=item[0])\n",
    "\n",
    "edges = G.edges()\n",
    "colors = [G[u][v]['color'] for u,v in edges]\n",
    "weights = [G[u][v]['weight'] for u,v in edges]\n",
    "    \n",
    "options = {\n",
    "    'node_color': 'y',\n",
    "    'node_size': 1000,\n",
    "}\n",
    "    \n",
    "nx.draw(G,with_labels=True,pos=nx.circular_layout(G),edges=edges,edge_color=colors,width=weights,**options)"
   ]
  },
  {
   "cell_type": "markdown",
   "metadata": {},
   "source": [
    "In this figure the red (blue) signifies a positive (negative) weight."
   ]
  },
  {
   "cell_type": "markdown",
   "metadata": {},
   "source": [
    "## Building the many-body Hamiltonian <a id='ed'></a>"
   ]
  },
  {
   "cell_type": "code",
   "execution_count": 6,
   "metadata": {},
   "outputs": [],
   "source": [
    "# Loading the Pauli matrices\n",
    "\n",
    "Id = sps.eye(2)\n",
    "Sx = sps.csr_matrix(np.array([[0,1.+0.j],[1+0.j,0]]))\n",
    "Sy = sps.csr_matrix(np.array([[0,-1.j],[1.j,0]]))\n",
    "Sz = sps.csr_matrix(np.array([[1+0.j,0.],[0,-1+0.j]]))"
   ]
  },
  {
   "cell_type": "code",
   "execution_count": 7,
   "metadata": {},
   "outputs": [],
   "source": [
    "def ham_general(L,static):\n",
    "    ham_gen=np.zeros(shape=(2**L,2**L),dtype=np.complex)\n",
    "    for item in static:\n",
    "        string=item[0]\n",
    "        for inside in item[1:len(item)]:\n",
    "            for j in range(len(inside)):\n",
    "                op_list=[Id]*L\n",
    "                for k in range(len(string)):\n",
    "                    if string[k]=='x':\n",
    "                        op_list[inside[j][k+1]]=Sx\n",
    "                    elif string[k]=='y':\n",
    "                        op_list[inside[j][k+1]]=Sy\n",
    "                    elif string[k]=='z':\n",
    "                        op_list[inside[j][k+1]]=Sz\n",
    "                #print(reduce(sps.kron,op_list).toarray())\n",
    "                ham_gen += inside[j][0]*reduce(sps.kron,op_list).toarray()\n",
    "    #            \n",
    "    return ham_gen"
   ]
  },
  {
   "cell_type": "code",
   "execution_count": 8,
   "metadata": {},
   "outputs": [],
   "source": [
    "hamiltonian = ham_general(L,static)\n",
    "\n",
    "(e,u) = spslin.eigsh(hamiltonian, k=8, which='SA',return_eigenvectors=True)"
   ]
  },
  {
   "cell_type": "markdown",
   "metadata": {},
   "source": [
    "Althogh the Hamiltonian matrix is fully diagonal, since we only have the $\\sigma^z\\sigma^z$ interaction, here we use the brute force method to get the eigenvalues.\n",
    "\n",
    "### sneak peak in the eigenvalues"
   ]
  },
  {
   "cell_type": "code",
   "execution_count": 9,
   "metadata": {},
   "outputs": [
    {
     "data": {
      "text/plain": [
       "(array([-8., -8., -6., -6., -6., -6., -4., -4.]),\n",
       " array([-8., -8., -4., -6., -6., -6., -6., -4.]))"
      ]
     },
     "execution_count": 9,
     "metadata": {},
     "output_type": "execute_result"
    }
   ],
   "source": [
    "sorted_e=np.sort(e)\n",
    "\n",
    "sorted_e,e"
   ]
  },
  {
   "cell_type": "markdown",
   "metadata": {},
   "source": [
    "We see a two fold degenerate ground state and two fold degenerate excited state with excitation energy $\\Delta\\sim .015$. Obviously the two fold degeneracy is due to the $Z_2$ symmetry present in our system.\n",
    "\n",
    "lets save our few low lying states in a $4\\times 2^L$ dimensional array. Since scipy is not giving the sorted output, we sort the vectors bellow for better represeantion of the data."
   ]
  },
  {
   "cell_type": "code",
   "execution_count": 10,
   "metadata": {},
   "outputs": [
    {
     "name": "stdout",
     "output_type": "stream",
     "text": [
      "\n",
      "\n",
      "\n",
      "\n"
     ]
    }
   ],
   "source": [
    "vec_ed=np.ndarray(shape=(2**L,4),dtype=np.complex)\n",
    "\n",
    "for i in range(4):\n",
    "    print()\n",
    "    vec_ed[:,i]=u[:,np.where(e == sorted_e[i])[0][0]]"
   ]
  },
  {
   "cell_type": "code",
   "execution_count": 11,
   "metadata": {},
   "outputs": [],
   "source": [
    "def state_to_ampl_counts(vec, eps=1e-15):\n",
    "    \"\"\"Converts a statevector to a dictionary\n",
    "    of bitstrings and corresponding amplitudes\n",
    "    \"\"\"\n",
    "    qubit_dims = np.log2(vec.shape[0])\n",
    "    if qubit_dims % 1:\n",
    "        raise ValueError(\"Input vector is not a valid statevector for qubits.\")\n",
    "    qubit_dims = int(qubit_dims)\n",
    "    counts = {}\n",
    "    str_format = '0{}b'.format(qubit_dims)\n",
    "    for kk in range(vec.shape[0]):\n",
    "        val = vec[kk]\n",
    "        if val.real**2+val.imag**2 > eps:\n",
    "            counts[format(kk, str_format)] = val\n",
    "    return counts"
   ]
  },
  {
   "cell_type": "markdown",
   "metadata": {},
   "source": [
    "## Understading the ED result by converting it to $\\sigma^z$ states"
   ]
  },
  {
   "cell_type": "code",
   "execution_count": 12,
   "metadata": {},
   "outputs": [
    {
     "data": {
      "text/plain": [
       "({'0111000': (-0.2637726868442919+0.5093103363427324j),\n",
       "  '1000111': (-0.7826325243375836+0.24189518973799162j)},\n",
       " {'0111000': (-0.36710919657703933-0.713555989169082j),\n",
       "  '1000111': (-0.1947735389929016+0.5640318755333557j)})"
      ]
     },
     "execution_count": 12,
     "metadata": {},
     "output_type": "execute_result"
    }
   ],
   "source": [
    "state_to_ampl_counts(vec_ed[:,0]),state_to_ampl_counts(vec_ed[:,1])"
   ]
  },
  {
   "cell_type": "markdown",
   "metadata": {},
   "source": [
    "Clearly we see the two fold symmetric ground states, and the ED result is the symmetric and anti symmetric combinations of the two states. Furthermore we can now construct the states by hand and calculate the energies:"
   ]
  },
  {
   "cell_type": "code",
   "execution_count": 13,
   "metadata": {},
   "outputs": [
    {
     "data": {
      "text/plain": [
       "(['0111000', '1000111'],\n",
       " array([-0.26377269+0.50931034j, -0.78263252+0.24189519j]))"
      ]
     },
     "execution_count": 13,
     "metadata": {},
     "output_type": "execute_result"
    }
   ],
   "source": [
    "dictionary_gs=state_to_ampl_counts(vec_ed[:,0])\n",
    "\n",
    "# dictionary={'0111': (0.6334855744612489+0.05418536095999862j),\n",
    "#   '1000': (0.7717673443784631+0.011624962716153996j)}\n",
    "\n",
    "states_gs=list(dictionary_gs.keys())\n",
    "amplitudes_gs=np.array([dictionary_gs[item] for item in states_gs])\n",
    "\n",
    "states_gs,amplitudes_gs"
   ]
  },
  {
   "cell_type": "markdown",
   "metadata": {},
   "source": [
    "### define a function which gives the vector output for a z-order"
   ]
  },
  {
   "cell_type": "code",
   "execution_count": 14,
   "metadata": {},
   "outputs": [],
   "source": [
    "def state_to_vec(string):\n",
    "    length=len(string)\n",
    "    list_local=[0.]*(2**length)\n",
    "    value=0\n",
    "    for j,index in enumerate(string):\n",
    "        if index=='1':\n",
    "            value += 2**(length-1-j)\n",
    "    list_local[value]=1.\n",
    "    return np.array(list_local)\n",
    "\n",
    "def calculate_energy(vec,hamiltonian):\n",
    "    energy=np.matmul(vec,np.matmul(hamiltonian,vec)).real\n",
    "    return energy"
   ]
  },
  {
   "cell_type": "code",
   "execution_count": 15,
   "metadata": {},
   "outputs": [
    {
     "name": "stdout",
     "output_type": "stream",
     "text": [
      "for the state: 0111000 the energy is -8.000000000\n",
      "for the state: 1000111 the energy is -8.000000000\n"
     ]
    }
   ],
   "source": [
    "# back calculate the energy of the obtained ground state\n",
    "\n",
    "for state in states_gs:\n",
    "    vec=state_to_vec(states_gs[0])\n",
    "    print('for the state: %s the energy is %.9f'%(state,calculate_energy(vec,hamiltonian)))"
   ]
  },
  {
   "cell_type": "markdown",
   "metadata": {},
   "source": [
    "## Excited states:\n",
    "\n",
    "similarly we can find out the $\\sigma^z$ order of the excitated state, remember there are two excited states, from the ED result they should be orthogonal to each other."
   ]
  },
  {
   "cell_type": "code",
   "execution_count": 16,
   "metadata": {},
   "outputs": [
    {
     "data": {
      "text/plain": [
       "(['0110000', '0111001', '1000110', '1001111'],\n",
       " array([-0.47768982+0.09410231j, -0.76850536+0.09087743j,\n",
       "         0.05830945-0.24799059j, -0.30753191+0.06799118j]))"
      ]
     },
     "execution_count": 16,
     "metadata": {},
     "output_type": "execute_result"
    }
   ],
   "source": [
    "dictionary_es=state_to_ampl_counts(vec_ed[:,2])\n",
    "\n",
    "states_es=list(dictionary_es.keys())\n",
    "amplitudes_es=np.array([dictionary_es[item] for item in states_es])\n",
    "\n",
    "states_es,amplitudes_es"
   ]
  },
  {
   "cell_type": "code",
   "execution_count": 17,
   "metadata": {},
   "outputs": [
    {
     "name": "stdout",
     "output_type": "stream",
     "text": [
      "for the state: 0110000 the energy is -6.000000000\n",
      "for the state: 0111001 the energy is -6.000000000\n",
      "for the state: 1000110 the energy is -6.000000000\n",
      "for the state: 1001111 the energy is -6.000000000\n"
     ]
    }
   ],
   "source": [
    "for state in states_es:\n",
    "    vec=state_to_vec(states_es[0])\n",
    "    energy=np.matmul(vec,np.matmul(hamiltonian,vec)).real\n",
    "    print('for the state: %s the energy is %.9f'%(state,energy))"
   ]
  },
  {
   "cell_type": "markdown",
   "metadata": {},
   "source": [
    "# finally visualizing the max-cut sollution"
   ]
  },
  {
   "cell_type": "code",
   "execution_count": 18,
   "metadata": {},
   "outputs": [
    {
     "data": {
      "image/png": "[encoded data removed]",
      "text/plain": [
       "<Figure size 432x288 with 1 Axes>"
      ]
     },
     "metadata": {},
     "output_type": "display_data"
    }
   ],
   "source": [
    "G = nx.Graph()\n",
    "G.add_nodes_from(s)\n",
    "for item in J_nn:\n",
    "    G.add_edge(item[1],item[2],color='r' if (item[0]>0) else 'b',weight=item[0])\n",
    "\n",
    "edges = G.edges()\n",
    "colors = [G[u][v]['color'] for u,v in edges]\n",
    "weights = [G[u][v]['weight'] for u,v in edges]\n",
    "    \n",
    "options = {'node_size': 1000,}\n",
    "\n",
    "n_color=['g' if (node == '0') else 'y' for node in states_gs[0]]\n",
    "\n",
    "nx.draw(G,node_color=n_color,with_labels=True,pos=nx.circular_layout(G),edges=edges,edge_color=colors,width=weights,**options)"
   ]
  },
  {
   "cell_type": "markdown",
   "metadata": {},
   "source": [
    "### The other state with $Z_2$ symmetry"
   ]
  },
  {
   "cell_type": "code",
   "execution_count": 19,
   "metadata": {},
   "outputs": [
    {
     "data": {
      "image/png": "[encoded data removed]",
      "text/plain": [
       "<Figure size 432x288 with 1 Axes>"
      ]
     },
     "metadata": {},
     "output_type": "display_data"
    }
   ],
   "source": [
    "G = nx.Graph()\n",
    "G.add_nodes_from(s)\n",
    "for item in J_nn:\n",
    "    G.add_edge(item[1],item[2],color='r' if (item[0]>0) else 'b',weight=item[0])\n",
    "\n",
    "edges = G.edges()\n",
    "colors = [G[u][v]['color'] for u,v in edges]\n",
    "weights = [G[u][v]['weight'] for u,v in edges]\n",
    "    \n",
    "options = {'node_size': 1000,}\n",
    "\n",
    "n_color=['g' if (node == '0') else 'y' for node in states_gs[1]]\n",
    "\n",
    "nx.draw(G,node_color=n_color,with_labels=True,pos=nx.circular_layout(G),edges=edges,edge_color=colors,width=weights,**options)"
   ]
  },
  {
   "cell_type": "markdown",
   "metadata": {},
   "source": [
    "Remember the fact that, red (blue) signifies the positive (negative) weight, in the above figure green (yellow) signifies $\\sigma^z=0$ ($\\sigma^z=1$). In the bellow figure, where we flip the 6th node, we get the first excited state."
   ]
  },
  {
   "cell_type": "markdown",
   "metadata": {},
   "source": [
    "# Another easier method\n",
    "\n",
    "Since the Hamiltonian is diagonal, we can just use the `numpyp.diagonal` and `numpy.sort` to find out the all the eigenvalues."
   ]
  },
  {
   "cell_type": "code",
   "execution_count": 20,
   "metadata": {},
   "outputs": [],
   "source": [
    "diagonal=np.diagonal(hamiltonian)\n",
    "assert(diagonal.shape[0]==2**L)\n",
    "\n",
    "minimum=np.amin(diagonal)\n",
    "np.where(diagonal == minimum)\n",
    "sorted_diagonal=np.sort(diagonal)\n",
    "\n",
    "sorted_diagonal;"
   ]
  },
  {
   "cell_type": "code",
   "execution_count": 21,
   "metadata": {},
   "outputs": [
    {
     "name": "stdout",
     "output_type": "stream",
     "text": [
      "The GS are:  0111000 & 1000111\n"
     ]
    }
   ],
   "source": [
    "energy=sorted_diagonal[0]\n",
    "arr=np.where(diagonal == energy)\n",
    "\n",
    "gs_1=str(format(arr[0][0],'0{}b'.format(L)))\n",
    "gs_2=str(format(arr[0][1],'0{}b'.format(L)))\n",
    "\n",
    "print('The GS are: ',gs_1,'&',gs_2)"
   ]
  },
  {
   "cell_type": "markdown",
   "metadata": {},
   "source": [
    "We clearly see that all the low lying eigenstate are very easy to calculate using this method."
   ]
  },
  {
   "cell_type": "markdown",
   "metadata": {},
   "source": [
    "# Now we will try to solve the same problem using QAOA <a id='qasm'></a>\n",
    "\n",
    "QAOA method is a <a href='https://arxiv.org/abs/1411.4028'>variational method</a>, which is in turn inspired by the <a href='https://arxiv.org/abs/quant-ph/0001106'>adiabatic quantum computation</a>. We alternatively apply rotation with respect to the Hamiltonian ($\\mathcal{H}$) and a mixer term (uniform x-field: $B=\\sum_i\\sigma^x_i$) with the angles $\\gamma$ and $\\beta$ respectively. After computing the energy of the final state at the end of the rotation, using the Hamiltonian, we get \n",
    "\n",
    "$$F(\\overrightarrow{\\beta},\\overrightarrow{\\gamma})\\equiv<\\psi{(\\overrightarrow{\\beta},\\overrightarrow{\\gamma})}|\\mathcal{H}|\\psi{(\\overrightarrow{\\beta},\\overrightarrow{\\gamma})}>$$\n",
    "\n",
    "With $|\\psi{(\\overrightarrow{\\beta},\\overrightarrow{\\gamma})}> =  \\left(e^{-i\\beta_p B}e^{-i\\gamma_p H}\\right)\\cdots \\left(e^{-i\\beta_1 B}e^{-i\\gamma_1 C}\\right) H^{\\otimes n} |0>$. Next we optimize the rotation angle so that the energy of the final state is minimized, and we get a optimal set of $(\\overrightarrow{\\beta}^*,\\overrightarrow{\\gamma}^*)$, and the supposedly GS of the system. Since the optimization is done in a classical computer, while the rotation is performed in quantum computer, this is called hybrid solver, which is claimed to be useful for the current noisy quantum computers available today. Thus the current era of quantum computing is called the era of <a href='https://quantum-journal.org/papers/q-2018-08-06-79/'>noisy intermediate-scale quantum (NISQ)</a> computing.\n",
    "\n",
    "The claim is if we increase this alternate layer, we get more closer to the GS.\n",
    "\n",
    "This is the full circuit, with we will now choose, $p=1~;~\\beta=\\text{x-field angle} (B);~\\gamma=\\text{Hamiltonian angle}(\\mathcal{H})$\n",
    "\n",
    "<img src=\"./qaoa.jpeg\" width=\"700\" height=\"700\">\n",
    "\n",
    "Here, H is the Hadamard gate, and $\\mathcal{H}$ is the Hamiltonian of interest."
   ]
  },
  {
   "cell_type": "code",
   "execution_count": 22,
   "metadata": {
    "scrolled": true
   },
   "outputs": [],
   "source": [
    "# have a look into the static matrix\n",
    "\n",
    "static;"
   ]
  },
  {
   "cell_type": "markdown",
   "metadata": {},
   "source": [
    "## Redefining the Hamiltonian along with the qiskit convention"
   ]
  },
  {
   "cell_type": "code",
   "execution_count": 23,
   "metadata": {},
   "outputs": [],
   "source": [
    "def inv_ham_general(L,static):\n",
    "    ham_gen=np.zeros(shape=(2**L,2**L),dtype=np.complex)\n",
    "    for item in static:\n",
    "        string=item[0]\n",
    "        for inside in item[1:len(item)]:\n",
    "            for j in range(len(inside)):\n",
    "                op_list=[Id]*L\n",
    "                for k in range(len(string)):\n",
    "                    if string[k]=='x':\n",
    "                        op_list[L-1-inside[j][k+1]]=Sx\n",
    "                    elif string[k]=='y':\n",
    "                        op_list[L-1-inside[j][k+1]]=Sy\n",
    "                    elif string[k]=='z':\n",
    "                        op_list[L-1-inside[j][k+1]]=Sz\n",
    "                ham_gen += inside[j][0]*reduce(sps.kron,op_list).toarray()\n",
    "    #            \n",
    "    return ham_gen"
   ]
  },
  {
   "cell_type": "code",
   "execution_count": 24,
   "metadata": {},
   "outputs": [],
   "source": [
    "def ham_rot(s, static, gamma):\n",
    "    L=len(s)\n",
    "    qc=QuantumCircuit(L,L)\n",
    "    for item in static:\n",
    "        opr=item[0]\n",
    "        adjacent=item[1]\n",
    "        if opr=='zz':\n",
    "            for element in adjacent:\n",
    "                strength=element[0]\n",
    "                nodes=element[1:len(element)]\n",
    "                qc.cx(nodes[0],nodes[1])\n",
    "                qc.rz(2*gamma*strength,nodes[1])\n",
    "                qc.cx(nodes[0],nodes[1])\n",
    "    #   \n",
    "    return qc"
   ]
  },
  {
   "cell_type": "code",
   "execution_count": 25,
   "metadata": {
    "scrolled": false
   },
   "outputs": [
    {
     "data": {
      "text/html": [
       "<pre style=\"word-wrap: normal;white-space: pre;background: #fff0;line-height: 1.1;font-family: &quot;Courier New&quot;,Courier,monospace\">                                                                            »\n",
       "q_0: ──■────────────────■────■────────────────■────■─────────────────────■──»\n",
       "     ┌─┴─┐┌──────────┐┌─┴─┐  │                │    │                     │  »\n",
       "q_1: ┤ X ├┤ RZ(2π/3) ├┤ X ├──┼────────────────┼────┼─────────────────────┼──»\n",
       "     └───┘└──────────┘└───┘┌─┴─┐┌──────────┐┌─┴─┐  │                     │  »\n",
       "q_2: ──────────────────────┤ X ├┤ RZ(2π/3) ├┤ X ├──┼────■────────────────┼──»\n",
       "                           └───┘└──────────┘└───┘┌─┴─┐  │  ┌──────────┐┌─┴─┐»\n",
       "q_3: ────────────────────────────────────────────┤ X ├──┼──┤ RZ(2π/3) ├┤ X ├»\n",
       "                                                 └───┘  │  └──────────┘└───┘»\n",
       "q_4: ───────────────────────────────────────────────────┼───────────────────»\n",
       "                                                      ┌─┴─┐┌──────────┐     »\n",
       "q_5: ─────────────────────────────────────────────────┤ X ├┤ RZ(2π/3) ├─────»\n",
       "                                                      └───┘└──────────┘     »\n",
       "q_6: ───────────────────────────────────────────────────────────────────────»\n",
       "                                                                            »\n",
       "c: 7/═══════════════════════════════════════════════════════════════════════»\n",
       "                                                                            »\n",
       "«                                                                        »\n",
       "«q_0: ───────────────────────────────────────────────────────────────────»\n",
       "«                                                                        »\n",
       "«q_1: ───────■─────────────────■────■────────────────■────■──────────────»\n",
       "«            │                 │    │                │    │              »\n",
       "«q_2: ──■────┼─────────────────┼────┼────────────────┼────┼──────────────»\n",
       "«       │  ┌─┴─┐┌───────────┐┌─┴─┐  │                │    │              »\n",
       "«q_3: ──┼──┤ X ├┤ RZ(-2π/3) ├┤ X ├──┼────────────────┼────┼──────────────»\n",
       "«       │  └───┘└───────────┘└───┘┌─┴─┐┌──────────┐┌─┴─┐  │              »\n",
       "«q_4: ──┼─────────────────────────┤ X ├┤ RZ(2π/3) ├┤ X ├──┼───────■──────»\n",
       "«     ┌─┴─┐                       └───┘└──────────┘└───┘  │     ┌─┴─┐    »\n",
       "«q_5: ┤ X ├───────────────────────────────────────────────┼─────┤ X ├────»\n",
       "«     └───┘                                             ┌─┴─┐┌──┴───┴───┐»\n",
       "«q_6: ──────────────────────────────────────────────────┤ X ├┤ RZ(2π/3) ├»\n",
       "«                                                       └───┘└──────────┘»\n",
       "«c: 7/═══════════════════════════════════════════════════════════════════»\n",
       "«                                                                        »\n",
       "«                                                                         \n",
       "«q_0: ────────────────────────────────────────────────────────────────────\n",
       "«                                                                         \n",
       "«q_1: ───────────────■────────────────────────────────────────────────────\n",
       "«                    │                                                    \n",
       "«q_2: ───────────────┼─────────■────────────────■─────────────────────────\n",
       "«                    │         │                │                         \n",
       "«q_3: ───────────────┼─────────┼────────────────┼────■─────────────────■──\n",
       "«                    │         │                │    │                 │  \n",
       "«q_4: ───────────────┼────■────┼────────────────┼────┼─────────────────┼──\n",
       "«     ┌───────────┐  │  ┌─┴─┐  │                │    │                 │  \n",
       "«q_5: ┤ RZ(-2π/3) ├──┼──┤ X ├──┼────────────────┼────┼─────────────────┼──\n",
       "«     └───────────┘┌─┴─┐└───┘┌─┴─┐┌──────────┐┌─┴─┐┌─┴─┐┌───────────┐┌─┴─┐\n",
       "«q_6: ─────────────┤ X ├─────┤ X ├┤ RZ(2π/3) ├┤ X ├┤ X ├┤ RZ(-2π/3) ├┤ X ├\n",
       "«                  └───┘     └───┘└──────────┘└───┘└───┘└───────────┘└───┘\n",
       "«c: 7/════════════════════════════════════════════════════════════════════\n",
       "«                                                                         </pre>"
      ],
      "text/plain": [
       "                                                                            »\n",
       "q_0: ──■────────────────■────■────────────────■────■─────────────────────■──»\n",
       "     ┌─┴─┐┌──────────┐┌─┴─┐  │                │    │                     │  »\n",
       "q_1: ┤ X ├┤ RZ(2π/3) ├┤ X ├──┼────────────────┼────┼─────────────────────┼──»\n",
       "     └───┘└──────────┘└───┘┌─┴─┐┌──────────┐┌─┴─┐  │                     │  »\n",
       "q_2: ──────────────────────┤ X ├┤ RZ(2π/3) ├┤ X ├──┼────■────────────────┼──»\n",
       "                           └───┘└──────────┘└───┘┌─┴─┐  │  ┌──────────┐┌─┴─┐»\n",
       "q_3: ────────────────────────────────────────────┤ X ├──┼──┤ RZ(2π/3) ├┤ X ├»\n",
       "                                                 └───┘  │  └──────────┘└───┘»\n",
       "q_4: ───────────────────────────────────────────────────┼───────────────────»\n",
       "                                                      ┌─┴─┐┌──────────┐     »\n",
       "q_5: ─────────────────────────────────────────────────┤ X ├┤ RZ(2π/3) ├─────»\n",
       "                                                      └───┘└──────────┘     »\n",
       "q_6: ───────────────────────────────────────────────────────────────────────»\n",
       "                                                                            »\n",
       "c: 7/═══════════════════════════════════════════════════════════════════════»\n",
       "                                                                            »\n",
       "«                                                                        »\n",
       "«q_0: ───────────────────────────────────────────────────────────────────»\n",
       "«                                                                        »\n",
       "«q_1: ───────■─────────────────■────■────────────────■────■──────────────»\n",
       "«            │                 │    │                │    │              »\n",
       "«q_2: ──■────┼─────────────────┼────┼────────────────┼────┼──────────────»\n",
       "«       │  ┌─┴─┐┌───────────┐┌─┴─┐  │                │    │              »\n",
       "«q_3: ──┼──┤ X ├┤ RZ(-2π/3) ├┤ X ├──┼────────────────┼────┼──────────────»\n",
       "«       │  └───┘└───────────┘└───┘┌─┴─┐┌──────────┐┌─┴─┐  │              »\n",
       "«q_4: ──┼─────────────────────────┤ X ├┤ RZ(2π/3) ├┤ X ├──┼───────■──────»\n",
       "«     ┌─┴─┐                       └───┘└──────────┘└───┘  │     ┌─┴─┐    »\n",
       "«q_5: ┤ X ├───────────────────────────────────────────────┼─────┤ X ├────»\n",
       "«     └───┘                                             ┌─┴─┐┌──┴───┴───┐»\n",
       "«q_6: ──────────────────────────────────────────────────┤ X ├┤ RZ(2π/3) ├»\n",
       "«                                                       └───┘└──────────┘»\n",
       "«c: 7/═══════════════════════════════════════════════════════════════════»\n",
       "«                                                                        »\n",
       "«                                                                         \n",
       "«q_0: ────────────────────────────────────────────────────────────────────\n",
       "«                                                                         \n",
       "«q_1: ───────────────■────────────────────────────────────────────────────\n",
       "«                    │                                                    \n",
       "«q_2: ───────────────┼─────────■────────────────■─────────────────────────\n",
       "«                    │         │                │                         \n",
       "«q_3: ───────────────┼─────────┼────────────────┼────■─────────────────■──\n",
       "«                    │         │                │    │                 │  \n",
       "«q_4: ───────────────┼────■────┼────────────────┼────┼─────────────────┼──\n",
       "«     ┌───────────┐  │  ┌─┴─┐  │                │    │                 │  \n",
       "«q_5: ┤ RZ(-2π/3) ├──┼──┤ X ├──┼────────────────┼────┼─────────────────┼──\n",
       "«     └───────────┘┌─┴─┐└───┘┌─┴─┐┌──────────┐┌─┴─┐┌─┴─┐┌───────────┐┌─┴─┐\n",
       "«q_6: ─────────────┤ X ├─────┤ X ├┤ RZ(2π/3) ├┤ X ├┤ X ├┤ RZ(-2π/3) ├┤ X ├\n",
       "«                  └───┘     └───┘└──────────┘└───┘└───┘└───────────┘└───┘\n",
       "«c: 7/════════════════════════════════════════════════════════════════════\n",
       "«                                                                         "
      ]
     },
     "execution_count": 25,
     "metadata": {},
     "output_type": "execute_result"
    }
   ],
   "source": [
    "qc = ham_rot(s, static, np.pi/3)\n",
    "qc.draw()"
   ]
  },
  {
   "cell_type": "code",
   "execution_count": 26,
   "metadata": {},
   "outputs": [
    {
     "data": {
      "text/html": [
       "<pre style=\"word-wrap: normal;white-space: pre;background: #fff0;line-height: 1.1;font-family: &quot;Courier New&quot;,Courier,monospace\">     ┌──────────┐\n",
       "q_0: ┤ RX(2π/3) ├\n",
       "     ├──────────┤\n",
       "q_1: ┤ RX(2π/3) ├\n",
       "     ├──────────┤\n",
       "q_2: ┤ RX(2π/3) ├\n",
       "     ├──────────┤\n",
       "q_3: ┤ RX(2π/3) ├\n",
       "     ├──────────┤\n",
       "q_4: ┤ RX(2π/3) ├\n",
       "     ├──────────┤\n",
       "q_5: ┤ RX(2π/3) ├\n",
       "     ├──────────┤\n",
       "q_6: ┤ RX(2π/3) ├\n",
       "     └──────────┘\n",
       "c: 7/════════════\n",
       "                 </pre>"
      ],
      "text/plain": [
       "     ┌──────────┐\n",
       "q_0: ┤ RX(2π/3) ├\n",
       "     ├──────────┤\n",
       "q_1: ┤ RX(2π/3) ├\n",
       "     ├──────────┤\n",
       "q_2: ┤ RX(2π/3) ├\n",
       "     ├──────────┤\n",
       "q_3: ┤ RX(2π/3) ├\n",
       "     ├──────────┤\n",
       "q_4: ┤ RX(2π/3) ├\n",
       "     ├──────────┤\n",
       "q_5: ┤ RX(2π/3) ├\n",
       "     ├──────────┤\n",
       "q_6: ┤ RX(2π/3) ├\n",
       "     └──────────┘\n",
       "c: 7/════════════\n",
       "                 "
      ]
     },
     "execution_count": 26,
     "metadata": {},
     "output_type": "execute_result"
    }
   ],
   "source": [
    "def x_field_rot(s, static, beta):\n",
    "    L = len(s)\n",
    "    qc = QuantumCircuit(L,L)\n",
    "    for n in s:\n",
    "        qc.rx(2*beta, n)\n",
    "    return qc\n",
    "\n",
    "qc = x_field_rot(s, static, np.pi/3)\n",
    "qc.draw()"
   ]
  },
  {
   "cell_type": "markdown",
   "metadata": {},
   "source": [
    "# defining the QAOA circuit (QASM)"
   ]
  },
  {
   "cell_type": "code",
   "execution_count": 27,
   "metadata": {},
   "outputs": [
    {
     "name": "stderr",
     "output_type": "stream",
     "text": [
      "/Users/animeshnanda/anaconda3/lib/python3.7/site-packages/ipykernel_launcher.py:10: DeprecationWarning: The QuantumCircuit.__add__() method is being deprecated.Use the compose() method which is more flexible w.r.t circuit register compatibility.\n",
      "  # Remove the CWD from sys.path while we load stuff.\n",
      "/Users/animeshnanda/anaconda3/lib/python3.7/site-packages/qiskit/circuit/quantumcircuit.py:869: DeprecationWarning: The QuantumCircuit.combine() method is being deprecated. Use the compose() method which is more flexible w.r.t circuit register compatibility.\n",
      "  return self.combine(rhs)\n"
     ]
    }
   ],
   "source": [
    "def qaoa_circuit_qasm(s, static, beta, gamma):\n",
    "    assert(len(beta) == len(gamma))\n",
    "    p = len(beta) # infering number of QAOA steps from the parameters passed\n",
    "    L=len(s)\n",
    "    qc = QuantumCircuit(L,L)\n",
    "    # first, apply a layer of Hadamards\n",
    "    qc.h(range(L))\n",
    "    # second, apply p alternating operators\n",
    "    for k in range(p):\n",
    "        qc=qc+ham_rot(s, static, gamma[k])\n",
    "        qc=qc+x_field_rot(s, static, beta[k])\n",
    "    qc.barrier(range(L))\n",
    "    # measure at the end\n",
    "    qc.measure(range(L), range(L))\n",
    "    return qc\n",
    "\n",
    "def compute_ising_energy_qasm(counts, inv_hamiltonian):\n",
    "    energy = 0\n",
    "    total_counts = 0\n",
    "    for meas, meas_count in counts.items():              # meas and meas_count are the state and freq\n",
    "        vec=state_to_vec(str(meas))\n",
    "        energy_vec=calculate_energy(vec,inv_hamiltonian)\n",
    "        energy += energy_vec * meas_count\n",
    "        total_counts += meas_count                       # energy is total energy of all the states\n",
    "    return energy / total_counts                         # total_counts is total number of sampling\n",
    "\n",
    "def get_black_box_objective_qasm(s, static, p, inv_hamiltonian,energy_qasm):\n",
    "    backend = Aer.get_backend('qasm_simulator')\n",
    "    def f(theta):\n",
    "        # let's assume first half is betas, second half is gammas\n",
    "        # theta is a 2*p length array, first 'p' entries are gamma and rest are beta\n",
    "        beta = theta[:p]\n",
    "        gamma = theta[p:]\n",
    "        qc = qaoa_circuit_qasm(s, static, beta, gamma)\n",
    "        counts = execute(qc, backend,shots=1024, seed_simulator=100).result().get_counts()\n",
    "        # return the energy\n",
    "        ener=compute_ising_energy_qasm(counts, inv_hamiltonian)\n",
    "        energy_qasm.append(ener)\n",
    "        return ener\n",
    "    return f\n",
    "\n",
    "# we are choosing p number of layers\n",
    "\n",
    "p=int(1.5*L)\n",
    "\n",
    "energy_qasm=[]\n",
    "np.random.seed(123)\n",
    "init_point = np.random.rand(2*p)\n",
    "init_point\n",
    "inv_hamiltonian=inv_ham_general(L,static)\n",
    "obj = get_black_box_objective_qasm(s, static, p, inv_hamiltonian,energy_qasm)\n",
    "# We are going to limit the number of iterations to 5000\n",
    "# constraint=\n",
    "res_qasm = minimize(obj, init_point, method='COBYLA', options={'maxiter':2500, 'disp': False}, tol=.01)"
   ]
  },
  {
   "cell_type": "code",
   "execution_count": 28,
   "metadata": {},
   "outputs": [
    {
     "data": {
      "text/plain": [
       "     fun: -2.912109375\n",
       "   maxcv: 0.0\n",
       " message: 'Optimization terminated successfully.'\n",
       "    nfev: 129\n",
       "  status: 1\n",
       " success: True\n",
       "       x: array([ 1.62581473,  1.13939253, -0.04882855,  0.56411243,  0.69928003,\n",
       "        0.45179601,  0.86905642,  0.65596773,  0.45480804,  0.41815255,\n",
       "        0.27309423,  0.94160877,  0.5431782 , -0.0548291 ,  0.32107375,\n",
       "        0.80896905,  0.1727937 ,  0.30700319,  1.53318488,  0.7742002 ])"
      ]
     },
     "execution_count": 28,
     "metadata": {},
     "output_type": "execute_result"
    }
   ],
   "source": [
    "res_qasm"
   ]
  },
  {
   "cell_type": "markdown",
   "metadata": {},
   "source": [
    "# execute the circuit with optimal angles"
   ]
  },
  {
   "cell_type": "code",
   "execution_count": 29,
   "metadata": {},
   "outputs": [],
   "source": [
    "shots=2048\n",
    "\n",
    "def get_qaoa_circuit_qasm(s, static, beta, gamma):\n",
    "    assert(len(beta) == len(gamma))\n",
    "    p = len(beta) # infering number of QAOA steps from the parameters passed\n",
    "    L=len(s)\n",
    "    qc = QuantumCircuit(L,L)\n",
    "    # first, apply a layer of Hadamards\n",
    "    qc.h(range(L))\n",
    "    # second, apply p alternating operators\n",
    "    for k in range(p):\n",
    "        qc=qc+ham_rot(s, static, gamma[k])\n",
    "        qc=qc+x_field_rot(s, static, beta[k])\n",
    "    qc.measure(range(L), range(L))\n",
    "    return qc\n",
    "\n",
    "def invert_counts(counts):\n",
    "    return {k[::-1]:v for k, v in counts.items()}\n",
    "\n",
    "backend = Aer.get_backend('qasm_simulator')\n",
    "\n",
    "optimal_theta = res_qasm['x']\n",
    "qc = get_qaoa_circuit_qasm(s, static, optimal_theta[:p], optimal_theta[p:])\n",
    "counts = invert_counts(execute(qc, backend,shots=shots).result().get_counts())"
   ]
  },
  {
   "cell_type": "code",
   "execution_count": 30,
   "metadata": {},
   "outputs": [
    {
     "data": {
      "text/plain": [
       "{'0111000': 191,\n",
       " '0001111': 77,\n",
       " '1110000': 74,\n",
       " '0111010': 89,\n",
       " '1000101': 94,\n",
       " '0011101': 48,\n",
       " '0000111': 44,\n",
       " '1000111': 169}"
      ]
     },
     "execution_count": 30,
     "metadata": {},
     "output_type": "execute_result"
    }
   ],
   "source": [
    "# deleting the results with probability less than 2%\n",
    "\n",
    "eps=int(.02*2048)\n",
    "entries=list(counts)\n",
    "\n",
    "for entry in entries:\n",
    "    if counts[entry]<=eps:\n",
    "        del counts[entry]\n",
    "        \n",
    "counts"
   ]
  },
  {
   "cell_type": "code",
   "execution_count": 31,
   "metadata": {},
   "outputs": [
    {
     "data": {
      "image/png": "[encoded data removed]",
      "text/plain": [
       "<Figure size 576x288 with 1 Axes>"
      ]
     },
     "execution_count": 31,
     "metadata": {},
     "output_type": "execute_result"
    }
   ],
   "source": [
    "plot_histogram(counts,figsize=(8,4))"
   ]
  },
  {
   "cell_type": "code",
   "execution_count": 32,
   "metadata": {},
   "outputs": [
    {
     "name": "stdout",
     "output_type": "stream",
     "text": [
      "for the state: 0111000 the energy is -8.000000000\n",
      "for the state: 1000111 the energy is -8.000000000\n"
     ]
    }
   ],
   "source": [
    "# remembering the ED result\n",
    "\n",
    "for state in states_gs:\n",
    "    vec=state_to_vec(states_gs[0])\n",
    "    print('for the state: %s the energy is %.9f'%(state,calculate_energy(vec,hamiltonian)))"
   ]
  },
  {
   "cell_type": "markdown",
   "metadata": {},
   "source": [
    "# Defining the QAOA circuit (State Vector) <a id='state'></a>"
   ]
  },
  {
   "cell_type": "code",
   "execution_count": 33,
   "metadata": {},
   "outputs": [],
   "source": [
    "def get_qaoa_circuit_sv(s, static, beta, gamma):\n",
    "    assert(len(beta) == len(gamma))\n",
    "    p = len(beta) # infering number of QAOA steps from the parameters passed\n",
    "    L=len(s)\n",
    "    qc = QuantumCircuit(L,L)\n",
    "    # first, apply a layer of Hadamards\n",
    "    qc.h(range(L))\n",
    "    # second, apply p alternating operators\n",
    "    for k in range(p):\n",
    "        qc=qc+ham_rot(s, static, gamma[k])\n",
    "        qc=qc+x_field_rot(s, static, beta[k])\n",
    "    # no measurement in the end!\n",
    "    return qc\n",
    "\n",
    "def compute_ising_energy_sv(sv_old,inv_hamilton):\n",
    "    \"\"\"Compute objective from statevector\n",
    "    For large number of qubits, this is slow. \n",
    "    \"\"\"\n",
    "    #sv=np.flip(sv_old)\n",
    "    sv=np.array(sv_old)\n",
    "    adjsv=np.conjugate(sv)\n",
    "    mult=np.matmul(inv_hamilton, sv)\n",
    "    ener=np.matmul(adjsv,mult)\n",
    "    return ener.real\n",
    "\n",
    "def get_black_box_objective_sv(s, static, p, inv_hamilton, energy_sv):\n",
    "    backend = Aer.get_backend('statevector_simulator')\n",
    "    def f(theta):\n",
    "        # let's assume first half is betas, second half is gammas\n",
    "        beta = theta[:p]\n",
    "        gamma = theta[p:]\n",
    "        qc = get_qaoa_circuit_sv(s, static, beta, gamma)\n",
    "        sv = execute(qc, backend).result().get_statevector()  # the sv is np.array with complex entries\n",
    "        # return the energy\n",
    "        ener=compute_ising_energy_sv(sv, inv_hamilton)\n",
    "        energy_sv.append(ener)\n",
    "        return ener, energy_sv\n",
    "    return f\n",
    "\n",
    "# we are choosing p number of layers\n",
    "\n",
    "p=L\n",
    "\n",
    "energy_sv=[]\n",
    "np.random.seed(123)\n",
    "init_point = np.random.rand(2*p)\n",
    "init_point\n",
    "inv_hamiltonian=inv_ham_general(L,static)\n",
    "obj = get_black_box_objective_sv(s, static, p, inv_hamiltonian,energy_sv)\n",
    "# We are going to limit the number of iterations to 5000\n",
    "# constraint=\n",
    "res_sv = minimize(obj, init_point, method='COBYLA', options={'maxiter':2500, 'disp': False}, tol=.01)"
   ]
  },
  {
   "cell_type": "code",
   "execution_count": 34,
   "metadata": {},
   "outputs": [
    {
     "data": {
      "text/plain": [
       "     fun: -7.092067078195671\n",
       "   maxcv: 0.0\n",
       " message: 'Optimization terminated successfully.'\n",
       "    nfev: 522\n",
       "  status: 1\n",
       " success: True\n",
       "       x: array([ 2.11010485,  0.81214942,  0.37092929,  0.79052505,  1.06475011,\n",
       "        0.38723691,  0.91533577,  0.03857371,  0.21351301,  0.27225311,\n",
       "        0.15441018,  0.40341619,  0.53887384, -0.11216017])"
      ]
     },
     "execution_count": 34,
     "metadata": {},
     "output_type": "execute_result"
    }
   ],
   "source": [
    "res_sv"
   ]
  },
  {
   "cell_type": "markdown",
   "metadata": {},
   "source": [
    "## Sampling the circuit with the optimized $\\gamma~\\&~\\beta$'s"
   ]
  },
  {
   "cell_type": "code",
   "execution_count": 35,
   "metadata": {},
   "outputs": [],
   "source": [
    "def get_qaoa_circuit_qasm(s, static, beta, gamma):\n",
    "    assert(len(beta) == len(gamma))\n",
    "    p = len(beta) # infering number of QAOA steps from the parameters passed\n",
    "    L=len(s)\n",
    "    qc = QuantumCircuit(L,L)\n",
    "    # first, apply a layer of Hadamards\n",
    "    qc.h(range(L))\n",
    "    # second, apply p alternating operators\n",
    "    for k in range(p):\n",
    "        qc=qc+ham_rot(s, static, gamma[k])\n",
    "        qc=qc+x_field_rot(s, static, beta[k])\n",
    "    qc.measure(range(L), range(L))\n",
    "    return qc\n",
    "\n",
    "backend = Aer.get_backend('qasm_simulator')\n",
    "\n",
    "optimal_theta = res_sv['x']\n",
    "qc = get_qaoa_circuit_qasm(s, static, optimal_theta[:p], optimal_theta[p:])\n",
    "counts = invert_counts(execute(qc, backend,shots=2048).result().get_counts())\n",
    "counts;"
   ]
  },
  {
   "cell_type": "code",
   "execution_count": 36,
   "metadata": {},
   "outputs": [
    {
     "data": {
      "text/plain": [
       "{'0111001': 84,\n",
       " '1000111': 781,\n",
       " '1000110': 78,\n",
       " '1001111': 100,\n",
       " '0111000': 689,\n",
       " '0110000': 73}"
      ]
     },
     "execution_count": 36,
     "metadata": {},
     "output_type": "execute_result"
    }
   ],
   "source": [
    "# deleting the results with probability less than 2%\n",
    "\n",
    "eps=int(.02*2048)\n",
    "entries=list(counts)\n",
    "\n",
    "for entry in entries:\n",
    "    if counts[entry]<=eps:\n",
    "        del counts[entry]\n",
    "        \n",
    "counts"
   ]
  },
  {
   "cell_type": "code",
   "execution_count": 37,
   "metadata": {},
   "outputs": [
    {
     "data": {
      "image/png": "[encoded data removed]",
      "text/plain": [
       "<Figure size 576x288 with 1 Axes>"
      ]
     },
     "execution_count": 37,
     "metadata": {},
     "output_type": "execute_result"
    }
   ],
   "source": [
    "plot_histogram(counts,figsize=(8,4))"
   ]
  },
  {
   "cell_type": "code",
   "execution_count": 38,
   "metadata": {},
   "outputs": [
    {
     "name": "stdout",
     "output_type": "stream",
     "text": [
      "for the state: 0111000 the energy is -8.000000000\n",
      "for the state: 1000111 the energy is -8.000000000\n"
     ]
    }
   ],
   "source": [
    "# remembering the ED result\n",
    "\n",
    "# back calculate the energy of the obtained ground state\n",
    "\n",
    "for state in states_gs:\n",
    "    vec=state_to_vec(states_gs[0])\n",
    "    print('for the state: %s the energy is %.9f'%(state,calculate_energy(vec,hamiltonian)))"
   ]
  },
  {
   "cell_type": "markdown",
   "metadata": {},
   "source": [
    "# Comparing the results from two different simulators:"
   ]
  },
  {
   "cell_type": "code",
   "execution_count": 39,
   "metadata": {},
   "outputs": [
    {
     "data": {
      "image/png": "[encoded data removed]",
      "text/plain": [
       "<Figure size 504x432 with 1 Axes>"
      ]
     },
     "metadata": {
      "needs_background": "light"
     },
     "output_type": "display_data"
    }
   ],
   "source": [
    "ms=6\n",
    "x_sv=np.arange(1,len(energy_sv)+1)\n",
    "x_qasm=np.arange(1,len(energy_qasm)+1)\n",
    "exact=sorted_diagonal[0].real\n",
    "\n",
    "plt.figure(figsize=(7,6))\n",
    "plt.plot(np.linspace(1,max(len(x_sv),len(x_qasm)),2),[exact,exact],'k-',label='Exact energy')\n",
    "plt.plot(x_sv,energy_sv,'b-',markersize=ms,label='Statevector')\n",
    "plt.plot(x_qasm,energy_qasm,'r-',markersize=ms,label='QASM')\n",
    "plt.xlabel('Iterations',fontsize=16)\n",
    "plt.ylabel('Energy',fontsize=16)\n",
    "plt.xticks(fontsize=16)\n",
    "plt.yticks(fontsize=16)\n",
    "plt.legend(fontsize=16)\n",
    "plt.grid()\n",
    "plt.tight_layout()\n",
    "plt.show()"
   ]
  },
  {
   "cell_type": "markdown",
   "metadata": {},
   "source": [
    "In summary we see that, although the ground state energy is not predicted well in the case of QAOA, the ground state configuration for the lowest energies are predicted correctly.\n",
    "\n",
    "* In this problem I have used 10 (7) layers for the QASM (statevector) simulation. There is the interesting question about what is the relation between L and p in general.\n",
    "\n",
    "* In the case of nearest neighbour interaction with a translation symmetry I have noticed that the system is predicting the GS energy pretty correctly, sometimes it can match with the results from exact diagonalization in the statevector. Then the question is wh ythe performance is poor in random bond long distance interaction scenario.\n",
    "\n",
    "<a href='#top'>Go to the top</a>"
   ]
  }
 ],
 "metadata": {
  "kernelspec": {
   "display_name": "Python 3",
   "language": "python",
   "name": "python3"
  },
  "language_info": {
   "codemirror_mode": {
    "name": "ipython",
    "version": 3
   },
   "file_extension": ".py",
   "mimetype": "text/x-python",
   "name": "python",
   "nbconvert_exporter": "python",
   "pygments_lexer": "ipython3",
   "version": "3.7.6"
  }
 },
 "nbformat": 4,
 "nbformat_minor": 4
}
